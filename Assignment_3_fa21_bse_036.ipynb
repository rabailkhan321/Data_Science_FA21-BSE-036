{
  "cells": [
    {
      "cell_type": "markdown",
      "metadata": {
        "id": "view-in-github",
        "colab_type": "text"
      },
      "source": [
        "<a href=\"https://colab.research.google.com/github/rabailkhan321/Data_Science_FA21-BSE-036/blob/main/Assignment_3_fa21_bse_036.ipynb\" target=\"_parent\"><img src=\"https://colab.research.google.com/assets/colab-badge.svg\" alt=\"Open In Colab\"/></a>"
      ]
    },
    {
      "cell_type": "code",
      "execution_count": 238,
      "metadata": {
        "id": "un1DMehjYq9e"
      },
      "outputs": [],
      "source": [
        "# Date: 25 November 2023\n",
        "# CSC461 – Assignment3 – Machine Learning\n",
        "# Rabail Salman\n",
        "# FA21-BSE-036\n",
        "# I have made a single ipython file for all the 3 questions and written comment from where the new question starts\n",
        "from sklearn import preprocessing\n",
        "import pandas as pd\n",
        "from sklearn.ensemble import RandomForestClassifier\n",
        "from sklearn.model_selection import cross_val_score, LeavePOut\n",
        "from sklearn.metrics import make_scorer, f1_score\n",
        "from sklearn.naive_bayes import GaussianNB\n",
        "from sklearn.metrics import accuracy_score, precision_score, recall_score\n",
        "import numpy as np"
      ]
    },
    {
      "cell_type": "code",
      "execution_count": 211,
      "metadata": {
        "id": "TShBmZe5Y_56"
      },
      "outputs": [],
      "source": [
        "from sklearn.model_selection import train_test_split\n",
        "from sklearn.preprocessing import LabelEncoder\n",
        "from sklearn.linear_model import LogisticRegression\n",
        "from sklearn.svm import SVC\n",
        "from sklearn.neural_network import MLPClassifier\n",
        "from sklearn.metrics import accuracy_score"
      ]
    },
    {
      "cell_type": "code",
      "execution_count": null,
      "metadata": {
        "colab": {
          "base_uri": "https://localhost:8080/"
        },
        "id": "m3dWJAUQZQ8S",
        "outputId": "6e29ab35-ece8-4db8-dfc3-2199120c920d"
      },
      "outputs": [
        {
          "name": "stdout",
          "output_type": "stream",
          "text": [
            "Drive already mounted at /content/drive; to attempt to forcibly remount, call drive.mount(\"/content/drive\", force_remount=True).\n"
          ]
        }
      ],
      "source": [
        "from google.colab import drive\n",
        "drive.mount('/content/drive')"
      ]
    },
    {
      "cell_type": "code",
      "execution_count": 236,
      "metadata": {
        "id": "3RyuR4OuZ31X"
      },
      "outputs": [],
      "source": [
        "# Q2 Apply Logistic Regression, Support Vector Machines, and Multilayer Perceptron classification\n",
        "#algorithms (using Python) on the gender prediction dataset with 2/3 train and 1/3 test split ratio\n",
        "\n",
        "df_gender = pd.read_csv('/content/drive/My Drive/data science/gender-prediction.csv')\n"
      ]
    },
    {
      "cell_type": "code",
      "execution_count": null,
      "metadata": {
        "id": "D2xB1s_5aeD0"
      },
      "outputs": [],
      "source": [
        "#seperate dependent (output) and independent (input) variables\n",
        "\n",
        "x = df_gender.drop('gender', axis=1)\n",
        "y = df_gender['gender']"
      ]
    },
    {
      "cell_type": "code",
      "execution_count": 237,
      "metadata": {
        "id": "qIdXmfapazKV"
      },
      "outputs": [],
      "source": [
        "\n",
        "labels = LabelEncoder()\n",
        "x['beard'] = labels.fit_transform(x['beard'])\n",
        "x['hair_length'] = labels.fit_transform(x['hair_length'])\n",
        "x['scarf'] = labels.fit_transform(x['scarf'])\n",
        "x['eye_color'] = labels.fit_transform(x['eye_color'])\n",
        "x['height'] = labels.fit_transform(x['height'])\n",
        "x['weight'] = labels.fit_transform(x['weight'])\n",
        "x['shoe_size'] = labels.fit_transform(x['shoe_size'])\n",
        "y = labels.fit_transform(y)\n"
      ]
    },
    {
      "cell_type": "code",
      "execution_count": null,
      "metadata": {
        "id": "6zt6ZQ7Yibff"
      },
      "outputs": [],
      "source": [
        "#make train/test split\n",
        "\n",
        "X_train, x_test, Y_train, y_test = train_test_split(x, y, test_size = 0.33, random_state = 2)\n",
        "\n"
      ]
    },
    {
      "cell_type": "code",
      "execution_count": null,
      "metadata": {
        "id": "zGQherSk0_D9"
      },
      "outputs": [],
      "source": [
        "# Logistic Regression\n",
        "logistic_regression = LogisticRegression()\n",
        "logistic_regression.fit(X_train,Y_train)\n",
        "y_predict_lr = logistic_regression.predict(x_test)"
      ]
    },
    {
      "cell_type": "code",
      "execution_count": null,
      "metadata": {
        "id": "GglP02zdOavB"
      },
      "outputs": [],
      "source": []
    },
    {
      "cell_type": "code",
      "execution_count": null,
      "metadata": {
        "id": "nxOoK56h1MFa"
      },
      "outputs": [],
      "source": [
        "# Support Vector Machines\n",
        "svm_classifier = SVC()\n",
        "svm_classifier.fit(X_train, Y_train)\n",
        "y_predict_svm = svm_classifier.predict(x_test)\n"
      ]
    },
    {
      "cell_type": "code",
      "execution_count": null,
      "metadata": {
        "colab": {
          "base_uri": "https://localhost:8080/"
        },
        "id": "M3UDeOUe9N_X",
        "outputId": "507a4e20-a17d-4888-ab5b-ae87c07d5ab1"
      },
      "outputs": [
        {
          "name": "stderr",
          "output_type": "stream",
          "text": [
            "/usr/local/lib/python3.10/dist-packages/sklearn/neural_network/_multilayer_perceptron.py:686: ConvergenceWarning: Stochastic Optimizer: Maximum iterations (200) reached and the optimization hasn't converged yet.\n",
            "  warnings.warn(\n"
          ]
        }
      ],
      "source": [
        "# Multilayer Perceptron\n",
        "mlp_classifier = MLPClassifier()\n",
        "mlp_classifier.fit(X_train, Y_train)\n",
        "y_predict_mlp = mlp_classifier.predict(x_test)"
      ]
    },
    {
      "cell_type": "code",
      "execution_count": null,
      "metadata": {
        "id": "o710M36A9XxR"
      },
      "outputs": [],
      "source": [
        "# Evaluate accuracy\n",
        "accuracy_lr = accuracy_score(y_test, y_predict_lr)\n",
        "accuracy_svm = accuracy_score(y_test, y_predict_svm)\n",
        "accuracy_mlp = accuracy_score(y_test, y_predict_mlp)"
      ]
    },
    {
      "cell_type": "code",
      "execution_count": null,
      "metadata": {
        "colab": {
          "base_uri": "https://localhost:8080/"
        },
        "id": "yFoLIrID9cmK",
        "outputId": "356f5836-0eb3-4ecd-a417-edc716e906cb"
      },
      "outputs": [
        {
          "name": "stdout",
          "output_type": "stream",
          "text": [
            "Logistic Regression Accuracy: 0.97\n",
            "SVM Accuracy: 0.84\n",
            "MLP Accuracy: 0.95\n"
          ]
        }
      ],
      "source": [
        "print(f\"Logistic Regression Accuracy: {accuracy_lr:.2f}\")\n",
        "print(f\"SVM Accuracy: {accuracy_svm:.2f}\")\n",
        "print(f\"MLP Accuracy: {accuracy_mlp:.2f}\")"
      ]
    },
    {
      "cell_type": "code",
      "execution_count": null,
      "metadata": {
        "colab": {
          "base_uri": "https://localhost:8080/"
        },
        "id": "QLGYFwFKCNfI",
        "outputId": "d9ac034c-6fb2-48ce-8ef1-d6ebfe72e2c7"
      },
      "outputs": [
        {
          "name": "stdout",
          "output_type": "stream",
          "text": [
            "Number of Incorrectly Classified Instances (Logistic Regression): 1\n",
            "Number of Incorrectly Classified Instances (SVM): 6\n",
            "Number of Incorrectly Classified Instances (MLP): 2\n"
          ]
        }
      ],
      "source": [
        "#Q2 part 1. How many instances are incorrectly classified?\n",
        "incorrect_lr = (y_predict_lr != y_test).sum()\n",
        "incorrect_svm = (y_predict_svm != y_test).sum()\n",
        "incorrect_mlp = (y_predict_mlp != y_test).sum()\n",
        "\n",
        "print(f\"Number of Incorrectly Classified Instances (Logistic Regression): {incorrect_lr}\")\n",
        "print(f\"Number of Incorrectly Classified Instances (SVM): {incorrect_svm}\")\n",
        "print(f\"Number of Incorrectly Classified Instances (MLP): {incorrect_mlp}\")\n"
      ]
    },
    {
      "cell_type": "code",
      "execution_count": null,
      "metadata": {
        "id": "pj2daVDN9EqR"
      },
      "outputs": [],
      "source": [
        "#Q2 part2. Rerun the experiment using train/test split ratio of 80/20. Do you see any change in the results?\n",
        "X1_train, x1_test, Y1_train, y1_test = train_test_split(x, y, test_size = 0.2, random_state = 2)\n",
        "\n"
      ]
    },
    {
      "cell_type": "code",
      "execution_count": null,
      "metadata": {
        "colab": {
          "base_uri": "https://localhost:8080/"
        },
        "id": "i9MsuNUdOgov",
        "outputId": "495cd767-692d-49d4-d64b-029efbf5410c"
      },
      "outputs": [
        {
          "name": "stderr",
          "output_type": "stream",
          "text": [
            "/usr/local/lib/python3.10/dist-packages/sklearn/neural_network/_multilayer_perceptron.py:686: ConvergenceWarning: Stochastic Optimizer: Maximum iterations (200) reached and the optimization hasn't converged yet.\n",
            "  warnings.warn(\n"
          ]
        }
      ],
      "source": [
        "\n",
        "logistic_regression1 = LogisticRegression()\n",
        "logistic_regression1.fit(X1_train,Y1_train)\n",
        "y_predict_lr1 = logistic_regression.predict(x1_test)\n",
        "\n",
        "\n",
        "svm_classifier1 = SVC()\n",
        "svm_classifier1.fit(X1_train, Y1_train)\n",
        "y_predict_svm1 = svm_classifier.predict(x1_test)\n",
        "\n",
        "\n",
        "mlp_classifier1 = MLPClassifier()\n",
        "mlp_classifier1.fit(X1_train, Y1_train)\n",
        "y_predict_mlp1 = mlp_classifier.predict(x1_test)\n",
        "\n",
        "\n"
      ]
    },
    {
      "cell_type": "code",
      "execution_count": null,
      "metadata": {
        "id": "i-jfIRCbPXVU"
      },
      "outputs": [],
      "source": []
    },
    {
      "cell_type": "code",
      "execution_count": null,
      "metadata": {
        "id": "vcX-ZrTqO28w"
      },
      "outputs": [],
      "source": [
        "accuracy1_lr = accuracy_score(y1_test, y_predict_lr)\n",
        "accuracy1_svm = accuracy_score(y1_test, y_predict_svm)\n",
        "accuracy1_mlp = accuracy_score(y1_test, y_predict_mlp)"
      ]
    },
    {
      "cell_type": "code",
      "execution_count": null,
      "metadata": {
        "colab": {
          "base_uri": "https://localhost:8080/"
        },
        "id": "iyR52gADPYlj",
        "outputId": "a1059a18-ecbe-4f11-8ece-84630bd1e642"
      },
      "outputs": [
        {
          "name": "stdout",
          "output_type": "stream",
          "text": [
            "Logistic Regression Accuracy in 80/20 ratio: 0.95\n",
            "SVM Accuracy in 80/20 ratio: 0.82\n",
            "MLP Accuracy in 80/20 ratio: 0.95\n"
          ]
        }
      ],
      "source": [
        "print(f\"Logistic Regression Accuracy in 80/20 ratio: {accuracy1_lr:.2f}\")\n",
        "print(f\"SVM Accuracy in 80/20 ratio: {accuracy1_svm:.2f}\")\n",
        "print(f\"MLP Accuracy in 80/20 ratio: {accuracy1_mlp:.2f}\")"
      ]
    },
    {
      "cell_type": "code",
      "execution_count": null,
      "metadata": {
        "colab": {
          "base_uri": "https://localhost:8080/"
        },
        "id": "Hc7DcSDPSEto",
        "outputId": "46391017-478b-4b03-efd9-e11be67b36d9"
      },
      "outputs": [
        {
          "name": "stdout",
          "output_type": "stream",
          "text": [
            "Number of Incorrectly Classified Instances in 80/20 ratio (Logistic Regression): 1\n",
            "Number of Incorrectly Classified Instances (SVM) in 80/20 ratio: 5\n",
            "Number of Incorrectly Classified Instances (MLP) in 80/20 ratio: 2\n"
          ]
        }
      ],
      "source": [
        "incorrect_lr1 = (y_predict_lr1 != y1_test).sum()\n",
        "incorrect_svm1 = (y_predict_svm1 != y1_test).sum()\n",
        "incorrect_mlp1 = (y_predict_mlp1 != y1_test).sum()\n",
        "\n",
        "print(f\"Number of Incorrectly Classified Instances in 80/20 ratio (Logistic Regression): {incorrect_lr1}\")\n",
        "print(f\"Number of Incorrectly Classified Instances (SVM) in 80/20 ratio: {incorrect_svm1}\")\n",
        "print(f\"Number of Incorrectly Classified Instances (MLP) in 80/20 ratio: {incorrect_mlp1}\")\n",
        "\n",
        "#•\tLogistic Regression:No change in the number of incorrectly classified instances. The model performed consistently across both split ratios.\n",
        "#•\tSupport Vector Machines (SVM):A decrease in the number of incorrectly classified instances from 6 to 4. The model improved its performance with the larger training set\n",
        "#•\tMultilayer Perceptron (MLP):Improvement in performance, as the number of incorrectly classified instances decreased from 2 to 1 with the larger training set."
      ]
    },
    {
      "cell_type": "code",
      "execution_count": null,
      "metadata": {
        "id": "vOBGBdfcWuUg"
      },
      "outputs": [],
      "source": [
        "#Q2 part4. Try to exclude these 2 attribute(s) from the dataset. Rerun the experiment (using 80/20 train/test split),\n",
        "#did you find any change in the results? Explain.\n",
        "#note: i created a new file in which I deleted attributes beard and scarf.\n",
        "\n",
        "df_genderc = pd.read_csv('/content/drive/My Drive/data science/gender-prediction - Copy.csv')\n"
      ]
    },
    {
      "cell_type": "code",
      "execution_count": null,
      "metadata": {
        "colab": {
          "base_uri": "https://localhost:8080/"
        },
        "id": "zEZJpa5FayRm",
        "outputId": "e06c55f7-259f-411b-fc25-1c558a39fc0b"
      },
      "outputs": [
        {
          "name": "stderr",
          "output_type": "stream",
          "text": [
            "/usr/local/lib/python3.10/dist-packages/sklearn/neural_network/_multilayer_perceptron.py:686: ConvergenceWarning: Stochastic Optimizer: Maximum iterations (200) reached and the optimization hasn't converged yet.\n",
            "  warnings.warn(\n"
          ]
        }
      ],
      "source": [
        "xc = df_genderc.drop('gender', axis=1)\n",
        "yc= df_genderc['gender']\n",
        "labelsc = LabelEncoder()\n",
        "\n",
        "xc['hair_length'] = labelsc.fit_transform(x['hair_length'])\n",
        "\n",
        "xc['eye_color'] = labelsc.fit_transform(x['eye_color'])\n",
        "xc['height'] = labelsc.fit_transform(x['height'])\n",
        "xc['weight'] = labelsc.fit_transform(x['weight'])\n",
        "xc['shoe_size'] = labelsc.fit_transform(x['shoe_size'])\n",
        "yc = labelsc.fit_transform(y)\n",
        "Xc_train, xc_test, Yc_train, yc_test = train_test_split(x, y, test_size = 0.2, random_state = 2)\n",
        "\n",
        "# Logistic Regression\n",
        "logistic_regressionc = LogisticRegression()\n",
        "logistic_regressionc.fit(Xc_train,Yc_train)\n",
        "yc_predict_lr = logistic_regressionc.predict(xc_test)\n",
        "\n",
        "# Support Vector Machines\n",
        "svm_classifierc = SVC()\n",
        "svm_classifierc.fit(Xc_train, Yc_train)\n",
        "yc_predict_svm = svm_classifierc.predict(xc_test)\n",
        "\n",
        "# Multilayer Perceptron\n",
        "mlp_classifierc = MLPClassifier()\n",
        "mlp_classifierc.fit(Xc_train, Yc_train)\n",
        "yc_predict_mlp = mlp_classifierc.predict(xc_test)\n",
        "\n",
        "\n",
        "\n",
        "\n"
      ]
    },
    {
      "cell_type": "code",
      "execution_count": null,
      "metadata": {
        "colab": {
          "base_uri": "https://localhost:8080/"
        },
        "id": "hwi5Cb6Wcyxp",
        "outputId": "6e02ceb4-8e9f-42aa-89ef-ea2d0f3352a5"
      },
      "outputs": [
        {
          "name": "stdout",
          "output_type": "stream",
          "text": [
            "Number of Incorrectly Classified Instances (Logistic Regression): 1\n",
            "Number of Incorrectly Classified Instances (SVM): 4\n",
            "Number of Incorrectly Classified Instances (MLP): 1\n"
          ]
        }
      ],
      "source": [
        "incorrect_lrc = (yc_predict_lr != yc_test).sum()\n",
        "incorrect_svmc = (yc_predict_svm != yc_test).sum()\n",
        "incorrect_mlpc= (yc_predict_mlp != yc_test).sum()\n",
        "\n",
        "print(f\"Number of Incorrectly Classified Instances (Logistic Regression): {incorrect_lrc}\")\n",
        "print(f\"Number of Incorrectly Classified Instances (SVM): {incorrect_svmc}\")\n",
        "print(f\"Number of Incorrectly Classified Instances (MLP): {incorrect_mlpc}\")"
      ]
    },
    {
      "cell_type": "code",
      "execution_count": null,
      "metadata": {
        "id": "5JTwzLeutmQ9"
      },
      "outputs": [],
      "source": [
        "#Apply Random Forest classification algorithm (using Python) on the gender prediction dataset with Monte\n",
        "#Carlo cross-validation and Leave P-Out cross-validation. Report F1 scores for both cross-validation strategies.\n",
        "rf_classifier = RandomForestClassifier(random_state=42)"
      ]
    },
    {
      "cell_type": "code",
      "execution_count": null,
      "metadata": {
        "id": "g4_3EOJ_vBSE"
      },
      "outputs": [],
      "source": [
        "monte_carlo_f1_scores = cross_val_score(rf_classifier, x, y, cv=10, scoring=make_scorer(f1_score))\n"
      ]
    },
    {
      "cell_type": "code",
      "execution_count": 208,
      "metadata": {
        "id": "FQqTn_-QvG7r"
      },
      "outputs": [],
      "source": [
        "p_out = 5\n",
        "leave_p_out = LeavePOut(p_out)\n"
      ]
    },
    {
      "cell_type": "code",
      "source": [
        "p_out_f1_scores = cross_val_score(rf_classifier, x, y, cv=leave_p_out, scoring=make_scorer(f1_score))\n"
      ],
      "metadata": {
        "id": "joYhUXsf5ipR"
      },
      "execution_count": null,
      "outputs": []
    },
    {
      "cell_type": "code",
      "execution_count": 209,
      "metadata": {
        "id": "d4PspfRMv4WQ",
        "colab": {
          "base_uri": "https://localhost:8080/"
        },
        "outputId": "b261d175-1e43-48b0-9c72-250cb10c8cdf"
      },
      "outputs": [
        {
          "output_type": "stream",
          "name": "stdout",
          "text": [
            "Monte Carlo Cross-Validation F1 Scores: [1.         1.         0.92307692 1.         1.         0.90909091\n",
            " 1.         0.92307692 1.         1.        ]\n"
          ]
        }
      ],
      "source": [
        "print(\"Monte Carlo Cross-Validation F1 Scores:\", monte_carlo_f1_scores)\n",
        "print(\"Leave P-Out Cross-Validation F1 Scores:\", p_out_f1_scores)"
      ]
    },
    {
      "cell_type": "code",
      "source": [
        "#Q4: Add 10 sample instances into the dataset (you can ask your friends/relatives/sibling for the data). Run the\n",
        "#ML experiment (using Python) by training the model using Gaussian Naïve Bayes classification algorithm\n",
        "#and all the instances from the gender prediction dataset. Evaluate the trained model using the newly added 10\n",
        "#test instances. Report accuracy, precision, and recall scores."
      ],
      "metadata": {
        "id": "Rr3ZPA_rEsFp"
      },
      "execution_count": null,
      "outputs": []
    },
    {
      "cell_type": "code",
      "source": [
        "df_new_instances = pd.read_csv('/content/drive/My Drive/data science/new_instance.csv')"
      ],
      "metadata": {
        "id": "dihE1xC4E4zz"
      },
      "execution_count": 227,
      "outputs": []
    },
    {
      "cell_type": "code",
      "source": [
        "X_train, Y_train = x, y\n",
        "\n"
      ],
      "metadata": {
        "id": "juDBLmSY5uOK"
      },
      "execution_count": 218,
      "outputs": []
    },
    {
      "cell_type": "code",
      "source": [
        "x2 = df_new_instances.drop('gender', axis=1)\n",
        "y2 = df_new_instances['gender']\n",
        "labels2 = LabelEncoder()\n",
        "x2['beard'] = labels2.fit_transform(x2['beard'])\n",
        "x2['hair_length'] = labels2.fit_transform(x2['hair_length'])\n",
        "x2['scarf'] = labels2.fit_transform(x2['scarf'])\n",
        "x2['eye_color'] = labels2.fit_transform(x2['eye_color'])\n",
        "x2['height'] = labels2.fit_transform(x2['height'])\n",
        "x2['weight'] = labels2.fit_transform(x2['weight'])\n",
        "x2['shoe_size'] = labels2.fit_transform(x2['shoe_size'])\n",
        "y2 = labels2.fit_transform(y2)\n",
        "Y_train = pd.Series(Y_train)\n",
        "y2 = pd.Series(y2)\n"
      ],
      "metadata": {
        "id": "IFQs2Zs5hkJ7"
      },
      "execution_count": 228,
      "outputs": []
    },
    {
      "cell_type": "code",
      "source": [
        "X_train_all = pd.concat([X_train, x2], ignore_index=True)\n",
        "Y_train_all = pd.concat([Y_train, y2], ignore_index=True)\n",
        "\n"
      ],
      "metadata": {
        "id": "azkyKPu8f9yL"
      },
      "execution_count": 229,
      "outputs": []
    },
    {
      "cell_type": "code",
      "source": [
        "model = GaussianNB()\n",
        "model.fit(X_train_all, Y_train_all)"
      ],
      "metadata": {
        "colab": {
          "base_uri": "https://localhost:8080/",
          "height": 75
        },
        "id": "znV4Uoc1gqLv",
        "outputId": "6d983a39-5254-4474-f6f3-d35b371c6965"
      },
      "execution_count": 230,
      "outputs": [
        {
          "output_type": "execute_result",
          "data": {
            "text/plain": [
              "GaussianNB()"
            ],
            "text/html": [
              "<style>#sk-container-id-1 {color: black;background-color: white;}#sk-container-id-1 pre{padding: 0;}#sk-container-id-1 div.sk-toggleable {background-color: white;}#sk-container-id-1 label.sk-toggleable__label {cursor: pointer;display: block;width: 100%;margin-bottom: 0;padding: 0.3em;box-sizing: border-box;text-align: center;}#sk-container-id-1 label.sk-toggleable__label-arrow:before {content: \"▸\";float: left;margin-right: 0.25em;color: #696969;}#sk-container-id-1 label.sk-toggleable__label-arrow:hover:before {color: black;}#sk-container-id-1 div.sk-estimator:hover label.sk-toggleable__label-arrow:before {color: black;}#sk-container-id-1 div.sk-toggleable__content {max-height: 0;max-width: 0;overflow: hidden;text-align: left;background-color: #f0f8ff;}#sk-container-id-1 div.sk-toggleable__content pre {margin: 0.2em;color: black;border-radius: 0.25em;background-color: #f0f8ff;}#sk-container-id-1 input.sk-toggleable__control:checked~div.sk-toggleable__content {max-height: 200px;max-width: 100%;overflow: auto;}#sk-container-id-1 input.sk-toggleable__control:checked~label.sk-toggleable__label-arrow:before {content: \"▾\";}#sk-container-id-1 div.sk-estimator input.sk-toggleable__control:checked~label.sk-toggleable__label {background-color: #d4ebff;}#sk-container-id-1 div.sk-label input.sk-toggleable__control:checked~label.sk-toggleable__label {background-color: #d4ebff;}#sk-container-id-1 input.sk-hidden--visually {border: 0;clip: rect(1px 1px 1px 1px);clip: rect(1px, 1px, 1px, 1px);height: 1px;margin: -1px;overflow: hidden;padding: 0;position: absolute;width: 1px;}#sk-container-id-1 div.sk-estimator {font-family: monospace;background-color: #f0f8ff;border: 1px dotted black;border-radius: 0.25em;box-sizing: border-box;margin-bottom: 0.5em;}#sk-container-id-1 div.sk-estimator:hover {background-color: #d4ebff;}#sk-container-id-1 div.sk-parallel-item::after {content: \"\";width: 100%;border-bottom: 1px solid gray;flex-grow: 1;}#sk-container-id-1 div.sk-label:hover label.sk-toggleable__label {background-color: #d4ebff;}#sk-container-id-1 div.sk-serial::before {content: \"\";position: absolute;border-left: 1px solid gray;box-sizing: border-box;top: 0;bottom: 0;left: 50%;z-index: 0;}#sk-container-id-1 div.sk-serial {display: flex;flex-direction: column;align-items: center;background-color: white;padding-right: 0.2em;padding-left: 0.2em;position: relative;}#sk-container-id-1 div.sk-item {position: relative;z-index: 1;}#sk-container-id-1 div.sk-parallel {display: flex;align-items: stretch;justify-content: center;background-color: white;position: relative;}#sk-container-id-1 div.sk-item::before, #sk-container-id-1 div.sk-parallel-item::before {content: \"\";position: absolute;border-left: 1px solid gray;box-sizing: border-box;top: 0;bottom: 0;left: 50%;z-index: -1;}#sk-container-id-1 div.sk-parallel-item {display: flex;flex-direction: column;z-index: 1;position: relative;background-color: white;}#sk-container-id-1 div.sk-parallel-item:first-child::after {align-self: flex-end;width: 50%;}#sk-container-id-1 div.sk-parallel-item:last-child::after {align-self: flex-start;width: 50%;}#sk-container-id-1 div.sk-parallel-item:only-child::after {width: 0;}#sk-container-id-1 div.sk-dashed-wrapped {border: 1px dashed gray;margin: 0 0.4em 0.5em 0.4em;box-sizing: border-box;padding-bottom: 0.4em;background-color: white;}#sk-container-id-1 div.sk-label label {font-family: monospace;font-weight: bold;display: inline-block;line-height: 1.2em;}#sk-container-id-1 div.sk-label-container {text-align: center;}#sk-container-id-1 div.sk-container {/* jupyter's `normalize.less` sets `[hidden] { display: none; }` but bootstrap.min.css set `[hidden] { display: none !important; }` so we also need the `!important` here to be able to override the default hidden behavior on the sphinx rendered scikit-learn.org. See: https://github.com/scikit-learn/scikit-learn/issues/21755 */display: inline-block !important;position: relative;}#sk-container-id-1 div.sk-text-repr-fallback {display: none;}</style><div id=\"sk-container-id-1\" class=\"sk-top-container\"><div class=\"sk-text-repr-fallback\"><pre>GaussianNB()</pre><b>In a Jupyter environment, please rerun this cell to show the HTML representation or trust the notebook. <br />On GitHub, the HTML representation is unable to render, please try loading this page with nbviewer.org.</b></div><div class=\"sk-container\" hidden><div class=\"sk-item\"><div class=\"sk-estimator sk-toggleable\"><input class=\"sk-toggleable__control sk-hidden--visually\" id=\"sk-estimator-id-1\" type=\"checkbox\" checked><label for=\"sk-estimator-id-1\" class=\"sk-toggleable__label sk-toggleable__label-arrow\">GaussianNB</label><div class=\"sk-toggleable__content\"><pre>GaussianNB()</pre></div></div></div></div></div>"
            ]
          },
          "metadata": {},
          "execution_count": 230
        }
      ]
    },
    {
      "cell_type": "code",
      "source": [
        "y_predict_new_inst =model.predict(x2)\n"
      ],
      "metadata": {
        "id": "yyETvRUEjIhh"
      },
      "execution_count": 233,
      "outputs": []
    },
    {
      "cell_type": "code",
      "source": [
        "accuracy_new_instance = accuracy_score(y2, y_predict_new_inst)\n",
        "precision_new_instance = precision_score(y2, y_predict_new_inst, average='weighted')\n",
        "recall_new_instance = recall_score(y2,y_predict_new_inst, average='weighted')\n"
      ],
      "metadata": {
        "id": "CFYvaz_PjjHx"
      },
      "execution_count": 234,
      "outputs": []
    },
    {
      "cell_type": "code",
      "source": [
        "print(f\"Accuracy for New Instances: {accuracy_new_instance:.2f}\")\n",
        "print(f\"Precision for New Instances: {precision_new_instance:.2f}\")\n",
        "print(f\"Recall for New Instances: {recall_new_instance:.2f}\")"
      ],
      "metadata": {
        "colab": {
          "base_uri": "https://localhost:8080/"
        },
        "id": "nCKSNCSmkHro",
        "outputId": "e50d7f2e-83d5-4444-8d8a-7f031b4eff73"
      },
      "execution_count": 235,
      "outputs": [
        {
          "output_type": "stream",
          "name": "stdout",
          "text": [
            "Accuracy for New Instances: 0.80\n",
            "Precision for New Instances: 0.80\n",
            "Recall for New Instances: 0.80\n"
          ]
        }
      ]
    }
  ],
  "metadata": {
    "colab": {
      "provenance": [],
      "authorship_tag": "ABX9TyNIhkqxndXAU14q/FmcXuCy",
      "include_colab_link": true
    },
    "kernelspec": {
      "display_name": "Python 3",
      "name": "python3"
    },
    "language_info": {
      "name": "python"
    }
  },
  "nbformat": 4,
  "nbformat_minor": 0
}