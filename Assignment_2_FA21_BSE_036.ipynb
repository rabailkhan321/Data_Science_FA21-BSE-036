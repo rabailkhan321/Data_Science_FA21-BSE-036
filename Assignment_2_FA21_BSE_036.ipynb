{
  "nbformat": 4,
  "nbformat_minor": 0,
  "metadata": {
    "colab": {
      "provenance": [],
      "authorship_tag": "ABX9TyNU3ACX1WPJ+jfuBlTSbFbr",
      "include_colab_link": true
    },
    "kernelspec": {
      "name": "python3",
      "display_name": "Python 3"
    },
    "language_info": {
      "name": "python"
    }
  },
  "cells": [
    {
      "cell_type": "markdown",
      "metadata": {
        "id": "view-in-github",
        "colab_type": "text"
      },
      "source": [
        "<a href=\"https://colab.research.google.com/github/rabailkhan321/Data_Science_FA21-BSE-036/blob/main/Assignment_2_FA21_BSE_036.ipynb\" target=\"_parent\"><img src=\"https://colab.research.google.com/assets/colab-badge.svg\" alt=\"Open In Colab\"/></a>"
      ]
    },
    {
      "cell_type": "code",
      "execution_count": 27,
      "metadata": {
        "id": "qpvqFmCuW6EL",
        "colab": {
          "base_uri": "https://localhost:8080/"
        },
        "outputId": "2749c8b5-a3c6-4de3-a5f9-bad4d2ea3d08"
      },
      "outputs": [
        {
          "output_type": "stream",
          "name": "stdout",
          "text": [
            "Drive already mounted at /content/drive; to attempt to forcibly remount, call drive.mount(\"/content/drive\", force_remount=True).\n"
          ]
        }
      ],
      "source": [
        "# 29/09/2023\n",
        "# CSC461 – Assignment2 – Regular Expressions\n",
        "# Rabail Salman\n",
        "# FA21-BSE-036\n",
        "#Section: C\n",
        "# In this assignment, first I shifted example-test.txt file to my drive account and then provided the path of that file in the code.\n",
        "#Then I used regular expression to perform the tasks(Q1- Q10)\n",
        "import re\n",
        "from google.colab import drive\n",
        "drive.mount('/content/drive')"
      ]
    },
    {
      "cell_type": "code",
      "source": [
        "path='drive/MyDrive/example-text.txt'"
      ],
      "metadata": {
        "id": "Dz5qMdHDhI2A"
      },
      "execution_count": 28,
      "outputs": []
    },
    {
      "cell_type": "code",
      "source": [
        "with open(path, 'r') as file:\n",
        "\n",
        "    text = file.read()\n",
        "\n"
      ],
      "metadata": {
        "id": "rxWflOWSXeAc"
      },
      "execution_count": 29,
      "outputs": []
    },
    {
      "cell_type": "code",
      "source": [
        "#1. Extract list of all words\n",
        "words = re.findall(r'\\w+', text)\n",
        "print(words)"
      ],
      "metadata": {
        "id": "iXa7DfG1iqKh",
        "outputId": "f2749840-db6c-49ff-819e-239f66d33e01",
        "colab": {
          "base_uri": "https://localhost:8080/"
        }
      },
      "execution_count": 30,
      "outputs": [
        {
          "output_type": "stream",
          "name": "stdout",
          "text": [
            "['The', 'outlook', 'wasn', 't', 'brilliant', 'for', 'the', 'Mudville', 'nine', 'that', 'day', 'The', 'score', 'stood', 'four', 'to', 'two', 'with', 'but', 'one', 'inning', 'more', 'to', 'play', 'And', 'then', 'when', 'Cooney', 'died', 'at', 'first', 'and', 'Barrows', 'did', 'the', 'same', 'A', 'pall', 'like', 'silence', 'fell', 'upon', 'the', 'patrons', 'of', 'the', 'game', 'A', 'straggling', 'few', 'got', 'up', 'to', 'go', 'in', 'deep', 'despair', 'The', 'rest', 'Clung', 'to', 'that', 'hope', 'which', 'springs', 'eternal', 'in', 'the', 'human', 'breast', 'They', 'thought', 'If', 'only', 'Casey', 'could', 'but', 'get', 'a', 'whack', 'at', 'that', 'We', 'd', 'put', 'up', 'even', 'money', 'now', 'with', 'Casey', 'at', 'the', 'bat', 'But', 'Flynn', 'preceded', 'Casey', 'as', 'did', 'also', 'Jimmy', 'Blake', 'And', 'the', 'former', 'was', 'a', 'lulu', 'while', 'the', 'latter', 'was', 'a', 'cake', 'So', 'upon', 'that', 'stricken', 'multitude', 'grim', 'melancholy', 'sat', 'For', 'there', 'seemed', 'but', 'little', 'chance', 'of', 'Casey', 'getting', 'to', 'the', 'bat', 'But', 'Flynn', 'let', 'drive', 'a', 'single', 'to', 'the', 'wonderment', 'of', 'all', 'And', 'Blake', 'the', 'much', 'despised', 'tore', 'the', 'cover', 'off', 'the', 'ball', 'And', 'when', 'the', 'dust', 'had', 'lifted', 'and', 'men', 'saw', 'what', 'had', 'occurred', 'There', 'was', 'Jimmy', 'safe', 'at', 'second', 'and', 'Flynn', 'a', 'hugging', 'third', 'Then', 'from', 'five', 'thousand', 'throats', 'and', 'more', 'there', 'rose', 'a', 'lusty', 'yell', 'It', 'rumbled', 'through', 'the', 'valley', 'it', 'rattled', 'in', 'the', 'dell', 'It', 'pounded', 'on', 'the', 'mountain', 'and', 'recoiled', 'upon', 'the', 'flat', 'For', 'Casey', 'mighty', 'Casey', 'was', 'advancing', 'to', 'the', 'bat', 'There', 'was', 'ease', 'in', 'Casey', 's', 'manner', 'as', 'he', 'stepped', 'into', 'his', 'place', 'There', 'was', 'pride', 'in', 'Casey', 's', 'bearing', 'and', 'a', 'smile', 'lit', 'Casey', 's', 'face', 'And', 'when', 'responding', 'to', 'the', 'cheers', 'he', 'lightly', 'doffed', 'his', 'hat', 'No', 'stranger', 'in', 'the', 'crowd', 'could', 'doubt', 'twas', 'Casey', 'at', 'the', 'bat', 'Ten', 'thousand', 'eyes', 'were', 'on', 'him', 'as', 'he', 'rubbed', 'his', 'hands', 'with', 'dirt', 'Five', 'thousand', 'tongues', 'applauded', 'when', 'he', 'wiped', 'them', 'on', 'his', 'shirt', 'Then', 'while', 'the', 'writhing', 'pitcher', 'ground', 'the', 'ball', 'into', 'his', 'hip', 'Defiance', 'flashed', 'in', 'Casey', 's', 'eye', 'a', 'sneer', 'curled', 'Casey', 's', 'lip', 'And', 'now', 'the', 'leather', 'covered', 'sphere', 'came', 'hurtling', 'through', 'the', 'air', 'And', 'Casey', 'stood', 'a', 'watching', 'it', 'in', 'haughty', 'grandeur', 'there', 'Close', 'by', 'the', 'sturdy', 'batsman', 'the', 'ball', 'unheeded', 'sped', 'That', 'ain', 't', 'my', 'style', 'said', 'Casey', 'Strike', 'one', 'the', 'umpire', 'said', 'From', 'the', 'benches', 'black', 'with', 'people', 'there', 'went', 'up', 'a', 'muffled', 'roar', 'Like', 'the', 'beating', 'of', 'the', 'storm', 'waves', 'on', 'a', 'stern', 'and', 'distant', 'shore', 'Kill', 'him', 'Kill', 'the', 'umpire', 'shouted', 'some', 'one', 'on', 'the', 'stand', 'And', 'it', 's', 'likely', 'they', 'd', 'have', 'killed', 'him', 'had', 'not', 'Casey', 'raised', 'his', 'hand', 'With', 'a', 'smile', 'of', 'Christian', 'charity', 'great', 'Casey', 's', 'visage', 'shone', 'He', 'stilled', 'the', 'rising', 'tumult', 'he', 'bade', 'the', 'game', 'go', 'on', 'He', 'signaled', 'to', 'the', 'pitcher', 'and', 'once', 'more', 'the', 'dun', 'sphere', 'flew', 'But', 'Casey', 'still', 'ignored', 'it', 'and', 'the', 'umpire', 'said', 'Strike', 'two', 'Fraud', 'cried', 'the', 'maddened', 'thousands', 'and', 'echo', 'answered', 'Fraud', 'But', 'one', 'scornful', 'look', 'from', 'Casey', 'and', 'the', 'audience', 'was', 'awed', 'They', 'saw', 'his', 'face', 'grow', 'stern', 'and', 'cold', 'they', 'saw', 'his', 'muscles', 'strain', 'And', 'they', 'knew', 'that', 'Casey', 'wouldn', 't', 'let', 'that', 'ball', 'go', 'by', 'again', 'The', 'sneer', 'has', 'fled', 'from', 'Casey', 's', 'lip', 'his', 'teeth', 'are', 'clenched', 'in', 'hate', 'He', 'pounds', 'with', 'cruel', 'violence', 'his', 'bat', 'upon', 'the', 'plate', 'And', 'now', 'the', 'pitcher', 'holds', 'the', 'ball', 'and', 'now', 'he', 'lets', 'it', 'go', 'And', 'now', 'the', 'air', 'is', 'shattered', 'by', 'the', 'force', 'of', 'Casey', 's', 'blow', 'Oh', 'somewhere', 'in', 'this', 'favored', 'land', 'the', 'sun', 'is', 'shining', 'bright', 'The', 'band', 'is', 'playing', 'somewhere', 'and', 'somewhere', 'hearts', 'are', 'light', 'And', 'somewhere', 'men', 'are', 'laughing', 'and', 'little', 'children', 'shout', 'But', 'there', 'is', 'no', 'joy', 'in', 'Mudville', 'great', 'Casey', 'has', 'struck', 'out']\n"
          ]
        }
      ]
    },
    {
      "cell_type": "code",
      "source": [
        "#2. Extract list of all words starting with a capital letter.\n",
        "capitalLetter = re.findall(r'\\b[A-Z]\\w*', text)\n",
        "print(capitalLetter)"
      ],
      "metadata": {
        "id": "KA34pHBgjx5G",
        "outputId": "445900c1-3198-47f8-a8fa-63c5bcc92918",
        "colab": {
          "base_uri": "https://localhost:8080/"
        }
      },
      "execution_count": 31,
      "outputs": [
        {
          "output_type": "stream",
          "name": "stdout",
          "text": [
            "['The', 'Mudville', 'The', 'And', 'Cooney', 'Barrows', 'A', 'A', 'The', 'Clung', 'They', 'If', 'Casey', 'We', 'Casey', 'But', 'Flynn', 'Casey', 'Jimmy', 'Blake', 'And', 'So', 'For', 'Casey', 'But', 'Flynn', 'And', 'Blake', 'And', 'There', 'Jimmy', 'Flynn', 'Then', 'It', 'It', 'For', 'Casey', 'Casey', 'There', 'Casey', 'There', 'Casey', 'Casey', 'And', 'No', 'Casey', 'Ten', 'Five', 'Then', 'Defiance', 'Casey', 'Casey', 'And', 'And', 'Casey', 'Close', 'That', 'Casey', 'Strike', 'From', 'Like', 'Kill', 'Kill', 'And', 'Casey', 'With', 'Christian', 'Casey', 'He', 'He', 'But', 'Casey', 'Strike', 'Fraud', 'Fraud', 'But', 'Casey', 'They', 'And', 'Casey', 'The', 'Casey', 'He', 'And', 'And', 'Casey', 'Oh', 'The', 'And', 'But', 'Mudville', 'Casey']\n"
          ]
        }
      ]
    },
    {
      "cell_type": "code",
      "source": [
        "#3. Extract list of all words of length 5\n",
        "lengthFive = re.findall(r'\\b\\w{5}\\b', text)\n",
        "print(lengthFive)"
      ],
      "metadata": {
        "id": "Ki47qVo1naqb",
        "outputId": "00574ed5-410f-454a-c037-ff34bd202275",
        "colab": {
          "base_uri": "https://localhost:8080/"
        }
      },
      "execution_count": 32,
      "outputs": [
        {
          "output_type": "stream",
          "name": "stdout",
          "text": [
            "['score', 'stood', 'first', 'Clung', 'which', 'human', 'Casey', 'could', 'whack', 'money', 'Casey', 'Flynn', 'Casey', 'Jimmy', 'Blake', 'while', 'there', 'Casey', 'Flynn', 'drive', 'Blake', 'cover', 'There', 'Jimmy', 'Flynn', 'third', 'there', 'lusty', 'Casey', 'Casey', 'There', 'Casey', 'place', 'There', 'pride', 'Casey', 'smile', 'Casey', 'crowd', 'could', 'doubt', 'Casey', 'hands', 'wiped', 'shirt', 'while', 'Casey', 'sneer', 'Casey', 'Casey', 'stood', 'there', 'Close', 'style', 'Casey', 'black', 'there', 'storm', 'waves', 'stern', 'shore', 'stand', 'Casey', 'smile', 'great', 'Casey', 'shone', 'Casey', 'still', 'Fraud', 'cried', 'Fraud', 'Casey', 'stern', 'Casey', 'again', 'sneer', 'Casey', 'teeth', 'cruel', 'plate', 'holds', 'force', 'Casey', 'light', 'shout', 'there', 'great', 'Casey']\n"
          ]
        }
      ]
    },
    {
      "cell_type": "code",
      "source": [
        "#4. Extract list of all words inside double quotes.\n",
        "doubleQuotes = re.findall(r'\"([^\"]+)\"', text)\n",
        "print(doubleQuotes)"
      ],
      "metadata": {
        "colab": {
          "base_uri": "https://localhost:8080/"
        },
        "id": "-lAGUZUboQGB",
        "outputId": "c0a8aa91-aa1a-445e-e236-935a7dce45ac"
      },
      "execution_count": 33,
      "outputs": [
        {
          "output_type": "stream",
          "name": "stdout",
          "text": [
            "[\"If only Casey could but get a whack at that--\\nWe'd put up even money now, with Casey at the bat.\", \"That ain't my style,\", 'Strike one!', 'Kill him! Kill the umpire!', 'Strike two!', 'Fraud!', 'Fraud!']\n"
          ]
        }
      ]
    },
    {
      "cell_type": "code",
      "source": [
        "#5. Extract list of all vowels\n",
        "vowels = re.findall(r'[aeiouAEIOU]', text)\n",
        "print(vowels)"
      ],
      "metadata": {
        "id": "b0ESzzffqkpT",
        "outputId": "780ee5df-c23c-48a3-83f9-93f85a93478c",
        "colab": {
          "base_uri": "https://localhost:8080/"
        }
      },
      "execution_count": 34,
      "outputs": [
        {
          "output_type": "stream",
          "name": "stdout",
          "text": [
            "['e', 'o', 'u', 'o', 'o', 'a', 'i', 'i', 'a', 'o', 'e', 'u', 'i', 'e', 'i', 'e', 'a', 'a', 'e', 'o', 'e', 'o', 'o', 'o', 'u', 'o', 'o', 'i', 'u', 'o', 'e', 'i', 'i', 'o', 'e', 'o', 'a', 'A', 'e', 'e', 'o', 'o', 'e', 'i', 'e', 'a', 'i', 'a', 'a', 'o', 'i', 'e', 'a', 'e', 'A', 'a', 'i', 'e', 'i', 'e', 'e', 'e', 'u', 'o', 'e', 'a', 'o', 'o', 'e', 'a', 'e', 'A', 'a', 'i', 'e', 'o', 'u', 'o', 'o', 'i', 'e', 'e', 'e', 'a', 'i', 'e', 'e', 'u', 'o', 'a', 'o', 'e', 'i', 'i', 'e', 'e', 'a', 'i', 'e', 'u', 'a', 'e', 'a', 'e', 'o', 'u', 'I', 'o', 'a', 'e', 'o', 'u', 'u', 'e', 'a', 'a', 'a', 'a', 'e', 'u', 'u', 'e', 'e', 'o', 'e', 'o', 'i', 'a', 'e', 'a', 'e', 'a', 'u', 'e', 'e', 'e', 'a', 'e', 'a', 'i', 'a', 'o', 'i', 'a', 'e', 'A', 'e', 'o', 'e', 'a', 'a', 'u', 'u', 'i', 'e', 'e', 'a', 'e', 'a', 'a', 'a', 'e', 'o', 'u', 'o', 'a', 'i', 'e', 'u', 'i', 'u', 'e', 'i', 'e', 'a', 'o', 'a', 'o', 'e', 'e', 'e', 'e', 'e', 'u', 'i', 'e', 'a', 'e', 'o', 'a', 'e', 'e', 'i', 'o', 'e', 'a', 'u', 'e', 'i', 'e', 'a', 'i', 'e', 'o', 'e', 'o', 'e', 'e', 'o', 'a', 'A', 'a', 'e', 'e', 'u', 'e', 'i', 'e', 'o', 'e', 'e', 'o', 'e', 'o', 'e', 'a', 'A', 'e', 'e', 'u', 'a', 'i', 'e', 'a', 'e', 'a', 'a', 'a', 'o', 'u', 'e', 'e', 'e', 'a', 'i', 'a', 'e', 'a', 'e', 'o', 'a', 'a', 'u', 'i', 'i', 'e', 'o', 'i', 'e', 'o', 'u', 'a', 'o', 'a', 'a', 'o', 'e', 'e', 'e', 'o', 'e', 'a', 'u', 'e', 'I', 'u', 'e', 'o', 'u', 'e', 'a', 'e', 'i', 'a', 'e', 'i', 'e', 'e', 'I', 'o', 'u', 'e', 'o', 'e', 'o', 'u', 'a', 'i', 'a', 'e', 'o', 'i', 'e', 'u', 'o', 'e', 'a', 'o', 'a', 'e', 'i', 'a', 'e', 'a', 'a', 'a', 'i', 'o', 'e', 'a', 'e', 'e', 'a', 'e', 'a', 'e', 'i', 'a', 'e', 'a', 'e', 'a', 'e', 'e', 'e', 'i', 'o', 'i', 'a', 'e', 'e', 'e', 'a', 'i', 'e', 'i', 'a', 'e', 'e', 'a', 'i', 'a', 'a', 'i', 'e', 'i', 'a', 'e', 'a', 'e', 'A', 'e', 'e', 'o', 'i', 'o', 'e', 'e', 'e', 'e', 'i', 'o', 'e', 'i', 'a', 'o', 'a', 'e', 'i', 'e', 'o', 'o', 'u', 'o', 'u', 'a', 'a', 'e', 'a', 'e', 'a', 'e', 'o', 'u', 'a', 'e', 'e', 'e', 'e', 'o', 'i', 'a', 'e', 'u', 'e', 'i', 'a', 'i', 'i', 'i', 'e', 'o', 'u', 'a', 'o', 'u', 'e', 'a', 'a', 'u', 'e', 'e', 'e', 'i', 'e', 'e', 'o', 'i', 'i', 'e', 'i', 'e', 'e', 'i', 'i', 'i', 'e', 'o', 'u', 'e', 'a', 'i', 'o', 'i', 'i', 'e', 'i', 'a', 'e', 'a', 'e', 'i', 'a', 'e', 'e', 'e', 'a', 'e', 'e', 'u', 'e', 'a', 'e', 'i', 'A', 'o', 'e', 'e', 'a', 'e', 'o', 'e', 'e', 'e', 'e', 'a', 'e', 'u', 'i', 'o', 'u', 'e', 'a', 'i', 'A', 'a', 'e', 'o', 'o', 'a', 'a', 'i', 'i', 'i', 'a', 'u', 'a', 'e', 'u', 'e', 'e', 'o', 'e', 'e', 'u', 'a', 'a', 'e', 'a', 'u', 'e', 'e', 'e', 'e', 'a', 'a', 'i', 'e', 'a', 'i', 'a', 'e', 'i', 'e', 'o', 'e', 'e', 'u', 'i', 'e', 'a', 'i', 'o', 'e', 'e', 'e', 'a', 'i', 'e', 'o', 'e', 'e', 'e', 'e', 'u', 'a', 'u', 'e', 'o', 'a', 'i', 'e', 'e', 'e', 'a', 'i', 'o', 'e', 'o', 'a', 'e', 'o', 'a', 'e', 'a', 'i', 'a', 'o', 'e', 'i', 'i', 'i', 'e', 'u', 'i', 'e', 'o', 'u', 'e', 'o', 'e', 'o', 'e', 'o', 'e', 'a', 'A', 'i', 'i', 'e', 'e', 'a', 'e', 'i', 'e', 'i', 'a', 'o', 'a', 'e', 'a', 'i', 'e', 'i', 'a', 'i', 'a', 'i', 'e', 'o', 'i', 'i', 'a', 'a', 'i', 'e', 'a', 'a', 'e', 'i', 'a', 'e', 'o', 'e', 'e', 'i', 'e', 'e', 'i', 'i', 'u', 'u', 'e', 'a', 'e', 'e', 'a', 'e', 'o', 'o', 'e', 'i', 'a', 'e', 'o', 'e', 'i', 'e', 'a', 'o', 'e', 'o', 'e', 'e', 'u', 'e', 'e', 'e', 'u', 'a', 'e', 'i', 'i', 'o', 'e', 'i', 'a', 'e', 'u', 'i', 'e', 'a', 'i', 'i', 'e', 'o', 'a', 'u', 'i', 'e', 'e', 'a', 'e', 'e', 'o', 'u', 'a', 'a', 'e', 'o', 'a', 'e', 'e', 'a', 'u', 'u', 'o', 'e', 'o', 'u', 'o', 'o', 'o', 'a', 'e', 'a', 'e', 'a', 'u', 'i', 'e', 'e', 'a', 'a', 'e', 'e', 'a', 'i', 'a', 'e', 'o', 'e', 'a', 'o', 'e', 'a', 'i', 'u', 'e', 'a', 'i', 'A', 'e', 'e', 'a', 'a', 'e', 'o', 'u', 'e', 'a', 'a', 'o', 'a', 'a', 'i', 'e', 'e', 'e', 'a', 'e', 'o', 'a', 'e', 'i', 'i', 'e', 'e', 'a', 'e', 'e', 'e', 'i', 'a', 'e', 'e', 'o', 'u', 'i', 'u', 'e', 'i', 'o', 'e', 'e', 'i', 'a', 'u', 'o', 'e', 'a', 'e', 'A', 'o', 'e', 'i', 'e', 'o', 'e', 'a', 'a', 'o', 'e', 'e', 'i', 'o', 'A', 'o', 'e', 'a', 'i', 'i', 'a', 'e', 'e', 'e', 'o', 'e', 'o', 'a', 'e', 'o', 'O', 'o', 'e', 'e', 'e', 'i', 'i', 'a', 'o', 'e', 'a', 'e', 'u', 'i', 'i', 'i', 'i', 'e', 'a', 'i', 'a', 'i', 'o', 'e', 'e', 'e', 'a', 'o', 'e', 'e', 'e', 'e', 'a', 'a', 'e', 'i', 'A', 'o', 'e', 'e', 'e', 'e', 'a', 'e', 'a', 'u', 'i', 'a', 'i', 'e', 'i', 'e', 'o', 'u', 'u', 'e', 'e', 'i', 'o', 'o', 'i', 'u', 'i', 'e', 'e', 'a', 'a', 'e', 'a', 'u', 'o', 'u']\n"
          ]
        }
      ]
    },
    {
      "cell_type": "code",
      "source": [
        "#6. Extract list of 3 letter words ending with letter ‘e’.\n",
        "threeLetterWord  = re.findall(r'\\b[A-Za-z]{2}e\\b',text)\n",
        "print(threeLetterWord)"
      ],
      "metadata": {
        "id": "xQxeUsWzrnoT",
        "outputId": "c084c2e4-4d56-4d5f-b4ff-0770335f686b",
        "colab": {
          "base_uri": "https://localhost:8080/"
        }
      },
      "execution_count": 35,
      "outputs": [
        {
          "output_type": "stream",
          "name": "stdout",
          "text": [
            "['The', 'the', 'The', 'one', 'the', 'the', 'the', 'The', 'the', 'the', 'the', 'the', 'the', 'the', 'the', 'the', 'the', 'the', 'the', 'the', 'the', 'the', 'the', 'the', 'the', 'the', 'the', 'the', 'eye', 'the', 'the', 'the', 'the', 'one', 'the', 'the', 'the', 'the', 'the', 'one', 'the', 'the', 'the', 'the', 'the', 'the', 'the', 'one', 'the', 'The', 'are', 'the', 'the', 'the', 'the', 'the', 'the', 'The', 'are', 'are']\n"
          ]
        }
      ]
    },
    {
      "cell_type": "code",
      "source": [
        "#7. Extract list of all words starting and ending with letter ‘b’.\n",
        "letterB = re.findall(r'\\b[Bb]\\w*b\\b', text)\n",
        "print(letterB)"
      ],
      "metadata": {
        "id": "LQRpDr4ToN44",
        "outputId": "f086317b-8b1e-4603-ee4e-5be747582986",
        "colab": {
          "base_uri": "https://localhost:8080/"
        }
      },
      "execution_count": 36,
      "outputs": [
        {
          "output_type": "stream",
          "name": "stdout",
          "text": [
            "[]\n"
          ]
        }
      ]
    },
    {
      "cell_type": "code",
      "source": [
        "#8. Remove all the punctuation marks from the text.\n",
        "removePunctuation = re.sub(r'!', '', text)\n",
        "print(removePunctuation)"
      ],
      "metadata": {
        "id": "JKGLUiLapTRX",
        "outputId": "c7571e2f-6204-4625-a355-a91fbb90fcba",
        "colab": {
          "base_uri": "https://localhost:8080/"
        }
      },
      "execution_count": 37,
      "outputs": [
        {
          "output_type": "stream",
          "name": "stdout",
          "text": [
            "The outlook wasn't brilliant for the Mudville nine that day; \n",
            "The score stood four to two, with but one inning more to play,\n",
            "And then when Cooney died at first, and Barrows did the same,\n",
            "A pall-like silence fell upon the patrons of the game. \n",
            "\n",
            "A straggling few got up to go in deep despair. The rest\n",
            "Clung to that hope which springs eternal in the human breast;\n",
            "They thought, \"If only Casey could but get a whack at that--\n",
            "We'd put up even money now, with Casey at the bat.\" \n",
            "\n",
            "But Flynn preceded Casey, as did also Jimmy Blake,\n",
            "And the former was a lulu, while the latter was a cake;\n",
            "So upon that stricken multitude grim melancholy sat,\n",
            "For there seemed but little chance of Casey getting to the bat.\n",
            "\n",
            "But Flynn let drive a single, to the wonderment of all,\n",
            "And Blake, the much despised, tore the cover off the ball;\n",
            "And when the dust had lifted, and men saw what had occurred,\n",
            "There was Jimmy safe at second and Flynn a-hugging third. \n",
            "\n",
            "Then from five thousand throats and more there rose a lusty yell;\n",
            "It rumbled through the valley, it rattled in the dell;\n",
            "It pounded on the mountain and recoiled upon the flat,\n",
            "For Casey, mighty Casey, was advancing to the bat. \n",
            "\n",
            "There was ease in Casey's manner as he stepped into his place;\n",
            "There was pride in Casey's bearing and a smile lit Casey's face.\n",
            "And when, responding to the cheers, he lightly doffed his hat,\n",
            "No stranger in the crowd could doubt 'twas Casey at the bat. \n",
            "\n",
            "Ten thousand eyes were on him as he rubbed his hands with dirt;\n",
            "Five thousand tongues applauded when he wiped them on his shirt;\n",
            "Then while the writhing pitcher ground the ball into his hip,\n",
            "Defiance flashed in Casey's eye, a sneer curled Casey's lip. \n",
            "\n",
            "And now the leather-covered sphere came hurtling through the air,\n",
            "And Casey stood a-watching it in haughty grandeur there.\n",
            "Close by the sturdy batsman the ball unheeded sped--\n",
            "\"That ain't my style,\" said Casey. \"Strike one\" the umpire said. \n",
            "\n",
            "From the benches, black with people, there went up a muffled roar,\n",
            "Like the beating of the storm-waves on a stern and distant shore;\n",
            "\"Kill him Kill the umpire\" shouted some one on the stand;\n",
            "And it's likely they'd have killed him had not Casey raised his hand. \n",
            "\n",
            "With a smile of Christian charity great Casey's visage shone;\n",
            "He stilled the rising tumult; he bade the game go on;\n",
            "He signaled to the pitcher, and once more the dun sphere flew;\n",
            "But Casey still ignored it, and the umpire said, \"Strike two\" \n",
            "\n",
            "\"Fraud\" cried the maddened thousands, and echo answered \"Fraud\"\n",
            "But one scornful look from Casey and the audience was awed.\n",
            "They saw his face grow stern and cold, they saw his muscles strain,\n",
            "And they knew that Casey wouldn't let that ball go by again. \n",
            "\n",
            "The sneer has fled from Casey's lip, his teeth are clenched in hate;\n",
            "He pounds with cruel violence his bat upon the plate.\n",
            "And now the pitcher holds the ball, and now he lets it go.\n",
            "And now the air is shattered by the force of Casey's blow. \n",
            "\n",
            "Oh, somewhere in this favored land the sun is shining bright;\n",
            "The band is playing somewhere, and somewhere hearts are light,\n",
            "And somewhere men are laughing, and little children shout;\n",
            "But there is no joy in Mudville--great Casey has struck out\n",
            "\n"
          ]
        }
      ]
    },
    {
      "cell_type": "code",
      "source": [
        "#9. Replace all words ending ‘n't’ to their full form ‘not’\n",
        "replaceNot = re.sub(r'n\\'t', ' not' , text)\n",
        "print(replaceNot)\n"
      ],
      "metadata": {
        "id": "ibTsVKT_wcWt",
        "outputId": "dad3c8fc-f26c-4eed-9431-74d0e314a2a7",
        "colab": {
          "base_uri": "https://localhost:8080/"
        }
      },
      "execution_count": 38,
      "outputs": [
        {
          "output_type": "stream",
          "name": "stdout",
          "text": [
            "The outlook was not brilliant for the Mudville nine that day; \n",
            "The score stood four to two, with but one inning more to play,\n",
            "And then when Cooney died at first, and Barrows did the same,\n",
            "A pall-like silence fell upon the patrons of the game. \n",
            "\n",
            "A straggling few got up to go in deep despair. The rest\n",
            "Clung to that hope which springs eternal in the human breast;\n",
            "They thought, \"If only Casey could but get a whack at that--\n",
            "We'd put up even money now, with Casey at the bat.\" \n",
            "\n",
            "But Flynn preceded Casey, as did also Jimmy Blake,\n",
            "And the former was a lulu, while the latter was a cake;\n",
            "So upon that stricken multitude grim melancholy sat,\n",
            "For there seemed but little chance of Casey getting to the bat.\n",
            "\n",
            "But Flynn let drive a single, to the wonderment of all,\n",
            "And Blake, the much despised, tore the cover off the ball;\n",
            "And when the dust had lifted, and men saw what had occurred,\n",
            "There was Jimmy safe at second and Flynn a-hugging third. \n",
            "\n",
            "Then from five thousand throats and more there rose a lusty yell;\n",
            "It rumbled through the valley, it rattled in the dell;\n",
            "It pounded on the mountain and recoiled upon the flat,\n",
            "For Casey, mighty Casey, was advancing to the bat. \n",
            "\n",
            "There was ease in Casey's manner as he stepped into his place;\n",
            "There was pride in Casey's bearing and a smile lit Casey's face.\n",
            "And when, responding to the cheers, he lightly doffed his hat,\n",
            "No stranger in the crowd could doubt 'twas Casey at the bat. \n",
            "\n",
            "Ten thousand eyes were on him as he rubbed his hands with dirt;\n",
            "Five thousand tongues applauded when he wiped them on his shirt;\n",
            "Then while the writhing pitcher ground the ball into his hip,\n",
            "Defiance flashed in Casey's eye, a sneer curled Casey's lip. \n",
            "\n",
            "And now the leather-covered sphere came hurtling through the air,\n",
            "And Casey stood a-watching it in haughty grandeur there.\n",
            "Close by the sturdy batsman the ball unheeded sped--\n",
            "\"That ai not my style,\" said Casey. \"Strike one!\" the umpire said. \n",
            "\n",
            "From the benches, black with people, there went up a muffled roar,\n",
            "Like the beating of the storm-waves on a stern and distant shore;\n",
            "\"Kill him! Kill the umpire!\" shouted some one on the stand;\n",
            "And it's likely they'd have killed him had not Casey raised his hand. \n",
            "\n",
            "With a smile of Christian charity great Casey's visage shone;\n",
            "He stilled the rising tumult; he bade the game go on;\n",
            "He signaled to the pitcher, and once more the dun sphere flew;\n",
            "But Casey still ignored it, and the umpire said, \"Strike two!\" \n",
            "\n",
            "\"Fraud!\" cried the maddened thousands, and echo answered \"Fraud!\"\n",
            "But one scornful look from Casey and the audience was awed.\n",
            "They saw his face grow stern and cold, they saw his muscles strain,\n",
            "And they knew that Casey would not let that ball go by again. \n",
            "\n",
            "The sneer has fled from Casey's lip, his teeth are clenched in hate;\n",
            "He pounds with cruel violence his bat upon the plate.\n",
            "And now the pitcher holds the ball, and now he lets it go.\n",
            "And now the air is shattered by the force of Casey's blow. \n",
            "\n",
            "Oh, somewhere in this favored land the sun is shining bright;\n",
            "The band is playing somewhere, and somewhere hearts are light,\n",
            "And somewhere men are laughing, and little children shout;\n",
            "But there is no joy in Mudville--great Casey has struck out\n",
            "\n"
          ]
        }
      ]
    },
    {
      "cell_type": "code",
      "source": [
        "#10. Replace all the new lines with a single space\n",
        "replaceNewLines = re.sub(r'\\n','', text)\n",
        "print(replaceNewLines)"
      ],
      "metadata": {
        "id": "IMWbFFsNtlOJ",
        "outputId": "ffd2e4b0-dfa0-406d-a229-d03aadc93a7b",
        "colab": {
          "base_uri": "https://localhost:8080/"
        }
      },
      "execution_count": 39,
      "outputs": [
        {
          "output_type": "stream",
          "name": "stdout",
          "text": [
            "The outlook wasn't brilliant for the Mudville nine that day; The score stood four to two, with but one inning more to play,And then when Cooney died at first, and Barrows did the same,A pall-like silence fell upon the patrons of the game. A straggling few got up to go in deep despair. The restClung to that hope which springs eternal in the human breast;They thought, \"If only Casey could but get a whack at that--We'd put up even money now, with Casey at the bat.\" But Flynn preceded Casey, as did also Jimmy Blake,And the former was a lulu, while the latter was a cake;So upon that stricken multitude grim melancholy sat,For there seemed but little chance of Casey getting to the bat.But Flynn let drive a single, to the wonderment of all,And Blake, the much despised, tore the cover off the ball;And when the dust had lifted, and men saw what had occurred,There was Jimmy safe at second and Flynn a-hugging third. Then from five thousand throats and more there rose a lusty yell;It rumbled through the valley, it rattled in the dell;It pounded on the mountain and recoiled upon the flat,For Casey, mighty Casey, was advancing to the bat. There was ease in Casey's manner as he stepped into his place;There was pride in Casey's bearing and a smile lit Casey's face.And when, responding to the cheers, he lightly doffed his hat,No stranger in the crowd could doubt 'twas Casey at the bat. Ten thousand eyes were on him as he rubbed his hands with dirt;Five thousand tongues applauded when he wiped them on his shirt;Then while the writhing pitcher ground the ball into his hip,Defiance flashed in Casey's eye, a sneer curled Casey's lip. And now the leather-covered sphere came hurtling through the air,And Casey stood a-watching it in haughty grandeur there.Close by the sturdy batsman the ball unheeded sped--\"That ain't my style,\" said Casey. \"Strike one!\" the umpire said. From the benches, black with people, there went up a muffled roar,Like the beating of the storm-waves on a stern and distant shore;\"Kill him! Kill the umpire!\" shouted some one on the stand;And it's likely they'd have killed him had not Casey raised his hand. With a smile of Christian charity great Casey's visage shone;He stilled the rising tumult; he bade the game go on;He signaled to the pitcher, and once more the dun sphere flew;But Casey still ignored it, and the umpire said, \"Strike two!\" \"Fraud!\" cried the maddened thousands, and echo answered \"Fraud!\"But one scornful look from Casey and the audience was awed.They saw his face grow stern and cold, they saw his muscles strain,And they knew that Casey wouldn't let that ball go by again. The sneer has fled from Casey's lip, his teeth are clenched in hate;He pounds with cruel violence his bat upon the plate.And now the pitcher holds the ball, and now he lets it go.And now the air is shattered by the force of Casey's blow. Oh, somewhere in this favored land the sun is shining bright;The band is playing somewhere, and somewhere hearts are light,And somewhere men are laughing, and little children shout;But there is no joy in Mudville--great Casey has struck out\n"
          ]
        }
      ]
    }
  ]
}